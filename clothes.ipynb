{
 "cells": [
  {
   "cell_type": "markdown",
   "metadata": {
    "application/vnd.databricks.v1+cell": {
     "cellMetadata": {},
     "inputWidgets": {},
     "nuid": "7270288c-0705-41bb-936e-a25addc772cf",
     "showTitle": false,
     "tableResultSettingsMap": {},
     "title": ""
    }
   },
   "source": [
    "##bronze layer.\n",
    "####lee desde archivo csv y guarda en tabla delta en capa bronze\n",
    "##silver layer.\n",
    "####lee bronze, tranforma y limpia datos y guarda en tabla delta en capa bronze\n",
    "##gold layer\n",
    "#####lee tabla de silver, crea tabla de hechos y dimensiones"
   ]
  },
  {
   "cell_type": "code",
   "execution_count": 0,
   "metadata": {
    "application/vnd.databricks.v1+cell": {
     "cellMetadata": {
      "byteLimit": 2048000,
      "rowLimit": 10000
     },
     "inputWidgets": {},
     "nuid": "7728312d-d41c-4fa8-8df4-ebf3e02d33ca",
     "showTitle": false,
     "tableResultSettingsMap": {},
     "title": ""
    }
   },
   "outputs": [],
   "source": [
    "import dlt\n",
    "from pyspark.sql.functions import col, trim, regexp_replace, monotonically_increasing_id, row_number\n",
    "from pyspark.sql.window import Window\n",
    "\n",
    "# ----------------------------------\n",
    "# BRONZE LAYER: Ingest Raw CSV File\n",
    "# ----------------------------------\n",
    "\n",
    "dlt.create_table(\n",
    "    name=\"clothes_bronze\",\n",
    "    comment=\"Raw clothes dataset loaded from CSV\"\n",
    ")\n",
    "\n",
    "@dlt.table(name=\"clothes_bronze\")\n",
    "def load_bronze():\n",
    "    return (\n",
    "        spark.read.format(\"csv\")\n",
    "            .option(\"inferSchema\", False)\n",
    "            .option(\"header\", True)\n",
    "            .option(\"sep\", \",\")\n",
    "            .option(\"skipRows\", 1)\n",
    "            .load(\"/FileStore/tables/clothes_price_prediction_dat.csv\")\n",
    "            .withColumnRenamed(\"Price;;;\", \"Price\")\n",
    "    )\n",
    "\n",
    "# ----------------------------------\n",
    "# SILVER LAYER: Clean the Data\n",
    "# ----------------------------------\n",
    "\n",
    "dlt.create_table(\n",
    "    name=\"clothes_silver\",\n",
    "    comment=\"Cleaned clothes data without nulls or duplicates\"\n",
    ")\n",
    "\n",
    "@dlt.table(name=\"clothes_silver\")\n",
    "def clean_clothes():\n",
    "    df = dlt.read(\"clothes_bronze\")\n",
    "    df_cleaned = (\n",
    "        df.dropna()\n",
    "          .dropDuplicates()\n",
    "          .select([trim(col(c)).alias(c) for c in df.columns])\n",
    "    )\n",
    "    return df_cleaned.withColumn(\"Price\", regexp_replace(col(\"Price\"), \";\", \"\").cast(\"double\"))\n",
    "\n",
    "# ----------------------------------\n",
    "# GOLD LAYER: Create Star Schema (Dimensions + Fact Table)\n",
    "# ----------------------------------\n",
    "\n",
    "# Utility function to add ID\n",
    "def add_surrogate_key(df, col_name):\n",
    "    return df.select(col(col_name)).distinct().withColumn(f\"{col_name}_id\", row_number().over(Window.orderBy(col(col_name))))\n",
    "\n",
    "# DIMENSION: Brand\n",
    "@dlt.table(name=\"dim_brand\")\n",
    "def dim_brand():\n",
    "    return add_surrogate_key(dlt.read(\"clothes_silver\"), \"Brand\")\n",
    "\n",
    "# DIMENSION: Category\n",
    "@dlt.table(name=\"dim_category\")\n",
    "def dim_category():\n",
    "    return add_surrogate_key(dlt.read(\"clothes_silver\"), \"Category\")\n",
    "\n",
    "# DIMENSION: Color\n",
    "@dlt.table(name=\"dim_color\")\n",
    "def dim_color():\n",
    "    return add_surrogate_key(dlt.read(\"clothes_silver\"), \"Color\")\n",
    "\n",
    "# DIMENSION: Size\n",
    "@dlt.table(name=\"dim_size\")\n",
    "def dim_size():\n",
    "    return add_surrogate_key(dlt.read(\"clothes_silver\"), \"Size\")\n",
    "\n",
    "# DIMENSION: Material\n",
    "@dlt.table(name=\"dim_material\")\n",
    "def dim_material():\n",
    "    return add_surrogate_key(dlt.read(\"clothes_silver\"), \"Material\")\n",
    "\n",
    "# FACT TABLE: Clothes Pricing\n",
    "@dlt.table(name=\"fact_clothes_price\")\n",
    "def fact_clothes_price():\n",
    "    silver_df = dlt.read(\"clothes_silver\")\n",
    "\n",
    "    brand = dlt.read(\"dim_brand\")\n",
    "    category = dlt.read(\"dim_category\")\n",
    "    color = dlt.read(\"dim_color\")\n",
    "    size = dlt.read(\"dim_size\")\n",
    "    material = dlt.read(\"dim_material\")\n",
    "\n",
    "    return (\n",
    "        silver_df\n",
    "            .join(brand, \"Brand\")\n",
    "            .join(category, \"Category\")\n",
    "            .join(color, \"Color\")\n",
    "            .join(size, \"Size\")\n",
    "            .join(material, \"Material\")\n",
    "            .select(\n",
    "                col(\"Brand_id\"),\n",
    "                col(\"Category_id\"),\n",
    "                col(\"Color_id\"),\n",
    "                col(\"Size_id\"),\n",
    "                col(\"Material_id\"),\n",
    "                col(\"Price\")\n",
    "            )\n",
    "    )\n"
   ]
  }
 ],
 "metadata": {
  "application/vnd.databricks.v1+notebook": {
   "computePreferences": null,
   "dashboards": [],
   "environmentMetadata": null,
   "inputWidgetPreferences": null,
   "language": "python",
   "notebookMetadata": {
    "mostRecentlyExecutedCommandWithImplicitDF": {
     "commandId": 4270368753495589,
     "dataframes": [
      "_sqldf"
     ]
    },
    "pythonIndentUnit": 4
   },
   "notebookName": "clothes",
   "widgets": {}
  },
  "language_info": {
   "name": "python"
  }
 },
 "nbformat": 4,
 "nbformat_minor": 0
}